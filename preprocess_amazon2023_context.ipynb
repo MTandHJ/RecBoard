{
 "cells": [
  {
   "cell_type": "markdown",
   "metadata": {},
   "source": [
    "# Preprocessing Amazon2023 for Item Context Information"
   ]
  },
  {
   "cell_type": "code",
   "execution_count": 1,
   "metadata": {},
   "outputs": [
    {
     "name": "stderr",
     "output_type": "stream",
     "text": [
      "/home/congxu/miniconda3/lib/python3.12/site-packages/tqdm/auto.py:21: TqdmWarning: IProgress not found. Please update jupyter and ipywidgets. See https://ipywidgets.readthedocs.io/en/stable/user_install.html\n",
      "  from .autonotebook import tqdm as notebook_tqdm\n"
     ]
    }
   ],
   "source": [
    "from typing import List\n",
    "\n",
    "import os\n",
    "from freerec.data.tags import USER, ITEM, RATING, TIMESTAMP\n",
    "from freerec.data.preprocessing.amazon2023 import extract_from_amazon2023"
   ]
  },
  {
   "cell_type": "code",
   "execution_count": 2,
   "metadata": {},
   "outputs": [],
   "source": [
    "dataset: str = \"Baby\"\n",
    "filedir: str = f\"../data/Amazon2023/{dataset}\"\n",
    "image_size: str = 'large' # (thumb, large, vis)\n",
    "inter_file = os.path.join(filedir, f\"{dataset}.inter\")\n",
    "item_file = os.path.join(filedir, f\"{dataset}.item\")"
   ]
  },
  {
   "cell_type": "code",
   "execution_count": 3,
   "metadata": {},
   "outputs": [
    {
     "data": {
      "text/plain": [
       "(                           USER        ITEM  RATING      TIMESTAMP parent_asin\n",
       " 0  AGKASBHYZPGTEPO6LWZPVJWB2BVA  B004FM7VOW     4.0  1471546337000  B089MS68G8\n",
       " 1  AGKASBHYZPGTEPO6LWZPVJWB2BVA  B01E5E703G     5.0  1471542244000  B01E5E703G\n",
       " 2  AGKASBHYZPGTEPO6LWZPVJWB2BVA  B00F463XV8     1.0  1452650881000  B00F9386Q8\n",
       " 3  AGCI7FAH4GL5FI65HYLKWTMFZ2CQ  B0007V644S     5.0  1408994051000  B07RRDX26B\n",
       " 4  AGCI7FAH4GL5FI65HYLKWTMFZ2CQ  B002LARFLY     5.0  1349818961000  B00OLRJET6,\n",
       "          ITEM parent_asin                                              title  \\\n",
       " 0  B004FM7VOW  B089MS68G8  Wildkin Original Nap Mat with Reusable Pillow ...   \n",
       " 1  B01E5E703G  B01E5E703G  Swim Diaper, Angel Love 2Pcs Pack Big One Size...   \n",
       " 2  B00F463XV8  B00F9386Q8                  Mud Pie Candy Monster Bags, Black   \n",
       " 3  B0007V644S  B07RRDX26B                 Sassy 250ct Diaper Sacks- Lavender   \n",
       " 4  B002LARFLY  B00OLRJET6  Spasilk Bath Hooded Towels & Washcloths Set fo...   \n",
       " \n",
       "                                           categories  \\\n",
       " 0  [Baby Products, Nursery, Bedding, Toddler Bedd...   \n",
       " 1  [Baby Products, Diapering, Cloth Diapers, Covers]   \n",
       " 2     [Baby Products, Diapering, Diaper Bags, Totes]   \n",
       " 3  [Baby Products, Diapering, Diaper Pails & Refi...   \n",
       " 4  [Baby Products, Baby Care, Bathing, Washcloths...   \n",
       " \n",
       "                                           image_urls       brand  \n",
       " 0  [{'thumb': 'https://m.media-amazon.com/images/...     Wildkin  \n",
       " 1  [{'thumb': 'https://m.media-amazon.com/images/...  Angel Love  \n",
       " 2  [{'thumb': 'https://m.media-amazon.com/images/...              \n",
       " 3  [{'thumb': 'https://m.media-amazon.com/images/...       Sassy  \n",
       " 4  [{'thumb': 'https://m.media-amazon.com/images/...     Spasilk  )"
      ]
     },
     "execution_count": 3,
     "metadata": {},
     "output_type": "execute_result"
    }
   ],
   "source": [
    "inter_df, item_df = extract_from_amazon2023(filedir)\n",
    "inter_df.head(5), item_df.head(5)"
   ]
  },
  {
   "cell_type": "code",
   "execution_count": 4,
   "metadata": {},
   "outputs": [],
   "source": [
    "\n",
    "# text converter that merges texts for each field\n",
    "def text_converter(texts):\n",
    "    if isinstance(texts, str):\n",
    "        merged = texts\n",
    "    elif isinstance(texts, List):\n",
    "        merged = '; '.join([f\"{text.strip()}\" for i, text in enumerate(texts, start=1)])\n",
    "    elif isinstance(texts, dict):\n",
    "        merged = '; '.join([f\"{key}: {text.strip()}\" for key, text in texts.items()])\n",
    "    else:\n",
    "        merged = ' '\n",
    "    return merged.strip()\n",
    "\n",
    "# image url converter that selects one of image urls\n",
    "def image_url_converter(image_urls: List, image_size: str = image_size):\n",
    "    if len(image_urls) == 0:\n",
    "        return ''\n",
    "    else:\n",
    "        return image_urls[0][image_size]"
   ]
  },
  {
   "cell_type": "code",
   "execution_count": 5,
   "metadata": {},
   "outputs": [],
   "source": [
    "# convert text fields\n",
    "# text_fields = ('title', 'features', 'description')\n",
    "text_fields = ('title', 'brand', 'categories')\n",
    "for field in text_fields:\n",
    "    item_df[field] = item_df[field].map(text_converter)\n",
    "\n",
    "item_df['text'] = item_df.apply(\n",
    "    lambda row: \" \".join([f\"{field.title()}: {row[field]}.\" for field in text_fields]),\n",
    "    axis=1\n",
    ")"
   ]
  },
  {
   "cell_type": "code",
   "execution_count": 6,
   "metadata": {},
   "outputs": [],
   "source": [
    "# convert image urls\n",
    "item_df['image_url'] = item_df['image_urls'].map(image_url_converter)"
   ]
  },
  {
   "cell_type": "code",
   "execution_count": 7,
   "metadata": {},
   "outputs": [
    {
     "data": {
      "text/plain": [
       "(                           USER        ITEM  RATING      TIMESTAMP\n",
       " 0  AGKASBHYZPGTEPO6LWZPVJWB2BVA  B004FM7VOW     4.0  1471546337000\n",
       " 1  AGKASBHYZPGTEPO6LWZPVJWB2BVA  B01E5E703G     5.0  1471542244000\n",
       " 2  AGKASBHYZPGTEPO6LWZPVJWB2BVA  B00F463XV8     1.0  1452650881000\n",
       " 3  AGCI7FAH4GL5FI65HYLKWTMFZ2CQ  B0007V644S     5.0  1408994051000\n",
       " 4  AGCI7FAH4GL5FI65HYLKWTMFZ2CQ  B002LARFLY     5.0  1349818961000,\n",
       "          ITEM                                               text  \\\n",
       " 0  B004FM7VOW  Title: Wildkin Original Nap Mat with Reusable ...   \n",
       " 1  B01E5E703G  Title: Swim Diaper, Angel Love 2Pcs Pack Big O...   \n",
       " 2  B00F463XV8  Title: Mud Pie Candy Monster Bags, Black.\\nBra...   \n",
       " 3  B0007V644S  Title: Sassy 250ct Diaper Sacks- Lavender.\\nBr...   \n",
       " 4  B002LARFLY  Title: Spasilk Bath Hooded Towels & Washcloths...   \n",
       " \n",
       "                                            image_url  \n",
       " 0  https://m.media-amazon.com/images/I/41kuAI0+-x...  \n",
       " 1  https://m.media-amazon.com/images/I/61KzMipUA2...  \n",
       " 2  https://m.media-amazon.com/images/I/51Omrk1Cd9...  \n",
       " 3  https://m.media-amazon.com/images/I/41U7mL6nXR...  \n",
       " 4  https://m.media-amazon.com/images/I/31XisXMz6-...  )"
      ]
     },
     "execution_count": 7,
     "metadata": {},
     "output_type": "execute_result"
    }
   ],
   "source": [
    "# .inter: USER, ITEM, RATING, TIMESTAMP\n",
    "# .item: ITEM, Text, Image URL\n",
    "inter_df = inter_df[[USER.name, ITEM.name, RATING.name, TIMESTAMP.name]]\n",
    "item_df = item_df[[ITEM.name, 'text', 'image_url']]\n",
    "inter_df.head(5), item_df.head(5)"
   ]
  },
  {
   "cell_type": "code",
   "execution_count": 8,
   "metadata": {},
   "outputs": [],
   "source": [
    "# Save\n",
    "inter_df.to_csv(inter_file, sep='\\t', index=False)\n",
    "item_df.to_csv(item_file, sep='\\t', index=False)"
   ]
  },
  {
   "cell_type": "code",
   "execution_count": 9,
   "metadata": {},
   "outputs": [
    {
     "data": {
      "text/plain": [
       "'Title: Terra Tattoos Tropical Hawaiian Metallic Tattoos - 75 Gold Silver Temporary Tattoos Turtles, Dolphins, Stars, Sun, Moon, Starfish, Seahorse, Coral, Palm Trees, Hibiscuses, Puka Shells & more!.\\nBrand: Terra Tattoos.\\nCategories: Beauty & Personal Care; Makeup; Body; Temporary Tattoos.'"
      ]
     },
     "execution_count": 9,
     "metadata": {},
     "output_type": "execute_result"
    }
   ],
   "source": [
    "item_df['text'][0]"
   ]
  },
  {
   "cell_type": "markdown",
   "metadata": {},
   "source": [
    "After preprocessing the dataset, please using the following command to prepare filtered and splitted dataset:\n",
    "\n",
    "```bash\n",
    "freerec make Amazon2023{dataset} --root ../data --filedir Amazon2023/{dataset} -ku 10 ki 10 -sp 4 --ratios 8,1,1 --splitting ROU\n",
    "```"
   ]
  }
 ],
 "metadata": {
  "kernelspec": {
   "display_name": "Python 3.12.3 ('base')",
   "language": "python",
   "name": "python3"
  },
  "language_info": {
   "codemirror_mode": {
    "name": "ipython",
    "version": 3
   },
   "file_extension": ".py",
   "mimetype": "text/x-python",
   "name": "python",
   "nbconvert_exporter": "python",
   "pygments_lexer": "ipython3",
   "version": "3.12.3"
  },
  "orig_nbformat": 4,
  "vscode": {
   "interpreter": {
    "hash": "06500af5bba293cc60d44d9235589c9cd74236fe2f15ae77a9917caaa2ff2f84"
   }
  }
 },
 "nbformat": 4,
 "nbformat_minor": 2
}
