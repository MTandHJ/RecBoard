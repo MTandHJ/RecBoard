{
 "cells": [
  {
   "cell_type": "markdown",
   "metadata": {},
   "source": [
    "# Preprocessing Amazon2023 for Item Context Information"
   ]
  },
  {
   "cell_type": "code",
   "execution_count": 9,
   "metadata": {},
   "outputs": [],
   "source": [
    "from typing import List\n",
    "\n",
    "import os\n",
    "from freerec.data.tags import USER, ITEM, RATING, TIMESTAMP\n",
    "from freerec.data.preprocessing.amazon2023 import extract_from_amazon2023"
   ]
  },
  {
   "cell_type": "code",
   "execution_count": 10,
   "metadata": {},
   "outputs": [],
   "source": [
    "dataset: str = \"Beauty\"\n",
    "filedir: str = f\"../data/Amazon2023/{dataset}\"\n",
    "image_size: str = 'large' # (thumb, large, vis)\n",
    "inter_file = os.path.join(filedir, f\"{dataset}.inter\")\n",
    "item_file = os.path.join(filedir, f\"{dataset}.item\")"
   ]
  },
  {
   "cell_type": "code",
   "execution_count": 11,
   "metadata": {},
   "outputs": [
    {
     "data": {
      "text/plain": [
       "(                           USER        ITEM  RATING      TIMESTAMP parent_asin\n",
       " 0  AFKZENTNBQ7A7V7UXW5JJI6UGRYQ  B00Z03RC80     1.0  1616743454733  B00Z03RC80\n",
       " 1  AFKZENTNBQ7A7V7UXW5JJI6UGRYQ  B085PRT2MP     1.0  1614915977684  B085PRT2MP\n",
       " 2  AFKZENTNBQ7A7V7UXW5JJI6UGRYQ  B08G81QQ9L     5.0  1612052493701  B08G81QQ9L\n",
       " 3  AFKZENTNBQ7A7V7UXW5JJI6UGRYQ  B07YYG76X1     1.0  1609700981786  B07YYG76X1\n",
       " 4  AFKZENTNBQ7A7V7UXW5JJI6UGRYQ  B0761M33BX     3.0  1581313195358  B07X4FKLNK,\n",
       "          ITEM parent_asin                                              title  \\\n",
       " 0  B00Z03RC80  B00Z03RC80  Terra Tattoos Tropical Hawaiian Metallic Tatto...   \n",
       " 1  B085PRT2MP  B085PRT2MP  Spray Bottle,Fine Mist Mini Clear 60ml/2oz Spr...   \n",
       " 2  B08G81QQ9L  B08G81QQ9L  Diamond Painting Animals DIY 5D Number Kits fo...   \n",
       " 3  B07YYG76X1  B07YYG76X1  ATMOKO Electric Toothbrushes for Adults 3 Soni...   \n",
       " 4  B0761M33BX  B07X4FKLNK  Teamkio 18pcs Manicure Set Pedicure Nail Clipp...   \n",
       " \n",
       "                                             features  \\\n",
       " 0  [OVER 75+ New tropical mermaid temporary metal...   \n",
       " 1                                                 []   \n",
       " 2                                                 []   \n",
       " 3  [[Multi-function] 7 in 1 nail grooming kit for...   \n",
       " 4  [High Quality Stainless Steel Manicure Set: Al...   \n",
       " \n",
       "                                          description  \\\n",
       " 0                                                 []   \n",
       " 1                                                 []   \n",
       " 2                                                 []   \n",
       " 3  [Suproot Manicure, Nail Clippers Set of 7Pcs, ...   \n",
       " 4                                                 []   \n",
       " \n",
       "                                           image_urls  \n",
       " 0  [{'thumb': 'https://m.media-amazon.com/images/...  \n",
       " 1  [{'thumb': 'https://m.media-amazon.com/images/...  \n",
       " 2  [{'thumb': 'https://m.media-amazon.com/images/...  \n",
       " 3  [{'thumb': 'https://m.media-amazon.com/images/...  \n",
       " 4  [{'thumb': 'https://m.media-amazon.com/images/...  )"
      ]
     },
     "execution_count": 11,
     "metadata": {},
     "output_type": "execute_result"
    }
   ],
   "source": [
    "inter_df, item_df = extract_from_amazon2023(filedir)\n",
    "inter_df.head(5), item_df.head(5)"
   ]
  },
  {
   "cell_type": "code",
   "execution_count": 12,
   "metadata": {},
   "outputs": [],
   "source": [
    "\n",
    "# text converter that merges texts for each field\n",
    "def text_converter(texts):\n",
    "    if isinstance(texts, str):\n",
    "        merged = texts\n",
    "    elif isinstance(texts, List):\n",
    "        merged = ' '.join([f\"{i}. {text} \" for i, text in enumerate(texts, start=1)])\n",
    "    elif isinstance(texts, dict):\n",
    "        merged = ' '.join([f\"{key}: {text} \" for key, text in texts.items()])\n",
    "    return merged.strip()\n",
    "\n",
    "# image url converter that selects one of image urls\n",
    "def image_url_converter(image_urls: List, image_size: str = image_size):\n",
    "    if len(image_urls) == 0:\n",
    "        return ''\n",
    "    else:\n",
    "        return image_urls[0][image_size]"
   ]
  },
  {
   "cell_type": "code",
   "execution_count": 13,
   "metadata": {},
   "outputs": [],
   "source": [
    "# convert text fields\n",
    "for field in ('title', 'features', 'description'):\n",
    "    item_df[field] = item_df[field].map(text_converter)\n",
    "\n",
    "item_df['text'] = item_df.apply(\n",
    "    lambda row: \"\\n\".join([f\"{field.title()}: {row[field]}\" for field in ('title', 'features', 'description')]),\n",
    "    axis=1\n",
    ")"
   ]
  },
  {
   "cell_type": "code",
   "execution_count": 14,
   "metadata": {},
   "outputs": [],
   "source": [
    "# convert image urls\n",
    "item_df['image_url'] = item_df['image_urls'].map(image_url_converter)"
   ]
  },
  {
   "cell_type": "code",
   "execution_count": 15,
   "metadata": {},
   "outputs": [
    {
     "data": {
      "text/plain": [
       "(                           USER        ITEM  RATING      TIMESTAMP\n",
       " 0  AFKZENTNBQ7A7V7UXW5JJI6UGRYQ  B00Z03RC80     1.0  1616743454733\n",
       " 1  AFKZENTNBQ7A7V7UXW5JJI6UGRYQ  B085PRT2MP     1.0  1614915977684\n",
       " 2  AFKZENTNBQ7A7V7UXW5JJI6UGRYQ  B08G81QQ9L     5.0  1612052493701\n",
       " 3  AFKZENTNBQ7A7V7UXW5JJI6UGRYQ  B07YYG76X1     1.0  1609700981786\n",
       " 4  AFKZENTNBQ7A7V7UXW5JJI6UGRYQ  B0761M33BX     3.0  1581313195358,\n",
       "          ITEM                                               text  \\\n",
       " 0  B00Z03RC80  Title: Terra Tattoos Tropical Hawaiian Metalli...   \n",
       " 1  B085PRT2MP  Title: Spray Bottle,Fine Mist Mini Clear 60ml/...   \n",
       " 2  B08G81QQ9L  Title: Diamond Painting Animals DIY 5D Number ...   \n",
       " 3  B07YYG76X1  Title: ATMOKO Electric Toothbrushes for Adults...   \n",
       " 4  B0761M33BX  Title: Teamkio 18pcs Manicure Set Pedicure Nai...   \n",
       " \n",
       "                                            image_url  \n",
       " 0  https://m.media-amazon.com/images/I/61PUNdBS5A...  \n",
       " 1  https://m.media-amazon.com/images/I/41613ggx3Y...  \n",
       " 2  https://m.media-amazon.com/images/I/51ZK13nXAD...  \n",
       " 3  https://m.media-amazon.com/images/I/51ys2Vw4y0...  \n",
       " 4  https://m.media-amazon.com/images/I/51OMVc8bwW...  )"
      ]
     },
     "execution_count": 15,
     "metadata": {},
     "output_type": "execute_result"
    }
   ],
   "source": [
    "# .inter: USER, ITEM, RATING, TIMESTAMP\n",
    "# .item: ITEM, Text, Image URL\n",
    "inter_df = inter_df[[USER.name, ITEM.name, RATING.name, TIMESTAMP.name]]\n",
    "item_df = item_df[[ITEM.name, 'text', 'image_url']]\n",
    "inter_df.head(5), item_df.head(5)"
   ]
  },
  {
   "cell_type": "code",
   "execution_count": 16,
   "metadata": {},
   "outputs": [],
   "source": [
    "# Save\n",
    "inter_df.to_csv(inter_file, sep='\\t', index=False)\n",
    "item_df.to_csv(item_file, sep='\\t', index=False)"
   ]
  },
  {
   "cell_type": "markdown",
   "metadata": {},
   "source": [
    "After preprocessing the dataset, please using the following command to prepare filtered and splitted dataset:\n",
    "\n",
    "```bash\n",
    "freerec make Amazon2023{dataset} --root ../data --filedir Amazon2023/{dataset} -ku 10 ki 10 -sp 4 --ratios 8,1,1 --splitting ROU\n",
    "```"
   ]
  }
 ],
 "metadata": {
  "kernelspec": {
   "display_name": "Python 3.9.19 ('PyT22')",
   "language": "python",
   "name": "python3"
  },
  "language_info": {
   "codemirror_mode": {
    "name": "ipython",
    "version": 3
   },
   "file_extension": ".py",
   "mimetype": "text/x-python",
   "name": "python",
   "nbconvert_exporter": "python",
   "pygments_lexer": "ipython3",
   "version": "3.9.19"
  },
  "orig_nbformat": 4,
  "vscode": {
   "interpreter": {
    "hash": "551ed5c3947f7ba38ed72fd7713d8d1c2fbde1c026852213575487749933a5e5"
   }
  }
 },
 "nbformat": 4,
 "nbformat_minor": 2
}
